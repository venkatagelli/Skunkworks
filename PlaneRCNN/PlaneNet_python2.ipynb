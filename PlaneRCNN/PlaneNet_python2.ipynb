{
  "nbformat": 4,
  "nbformat_minor": 0,
  "metadata": {
    "colab": {
      "name": "PlaneNet_python2",
      "provenance": [],
      "collapsed_sections": []
    },
    "kernelspec": {
      "display_name": "Python 2",
      "name": "python2"
    },
    "accelerator": "GPU"
  },
  "cells": [
    {
      "cell_type": "code",
      "metadata": {
        "id": "lIYdn1woOS1n",
        "colab": {
          "base_uri": "https://localhost:8080/"
        },
        "outputId": "24ee3e6c-90cf-4398-ff98-f3bb2482a0dd"
      },
      "source": [
        "#python2.7 , tensorflow==1.13.1\n",
        "!git clone https://github.com/art-programmer/PlaneNet"
      ],
      "execution_count": null,
      "outputs": [
        {
          "output_type": "stream",
          "text": [
            "Cloning into 'PlaneNet'...\n",
            "remote: Enumerating objects: 1381, done.\u001b[K\n",
            "remote: Total 1381 (delta 0), reused 0 (delta 0), pack-reused 1381\u001b[K\n",
            "Receiving objects: 100% (1381/1381), 75.92 MiB | 27.61 MiB/s, done.\n",
            "Resolving deltas: 100% (736/736), done.\n"
          ],
          "name": "stdout"
        }
      ]
    },
    {
      "cell_type": "code",
      "metadata": {
        "id": "JnfvwFgyGJ1L",
        "colab": {
          "base_uri": "https://localhost:8080/"
        },
        "outputId": "cf4393b2-a20a-4b2c-ef06-20f86a49927e"
      },
      "source": [
        "!pip install tensorflow==1.13.1"
      ],
      "execution_count": null,
      "outputs": [
        {
          "output_type": "stream",
          "text": [
            "Collecting tensorflow==1.13.1\n",
            "\u001b[?25l  Downloading https://files.pythonhosted.org/packages/d2/ea/ab2c8c0e81bd051cc1180b104c75a865ab0fc66c89be992c4b20bbf6d624/tensorflow-1.13.1-cp27-cp27mu-manylinux1_x86_64.whl (92.5MB)\n",
            "\u001b[K     |████████████████████████████████| 92.5MB 95kB/s \n",
            "\u001b[?25hCollecting tensorflow-estimator<1.14.0rc0,>=1.13.0\n",
            "\u001b[?25l  Downloading https://files.pythonhosted.org/packages/bb/48/13f49fc3fa0fdf916aa1419013bb8f2ad09674c275b4046d5ee669a46873/tensorflow_estimator-1.13.0-py2.py3-none-any.whl (367kB)\n",
            "\u001b[K     |████████████████████████████████| 368kB 58.7MB/s \n",
            "\u001b[?25hRequirement already satisfied: grpcio>=1.8.6 in /usr/local/lib/python2.7/dist-packages (from tensorflow==1.13.1) (1.15.0)\n",
            "Requirement already satisfied: mock>=2.0.0 in /usr/local/lib/python2.7/dist-packages (from tensorflow==1.13.1) (2.0.0)\n",
            "Requirement already satisfied: keras-applications>=1.0.6 in /usr/local/lib/python2.7/dist-packages (from tensorflow==1.13.1) (1.0.8)\n",
            "Requirement already satisfied: enum34>=1.1.6 in /usr/local/lib/python2.7/dist-packages (from tensorflow==1.13.1) (1.1.6)\n",
            "Requirement already satisfied: protobuf>=3.6.1 in /usr/local/lib/python2.7/dist-packages (from tensorflow==1.13.1) (3.8.0)\n",
            "Requirement already satisfied: keras-preprocessing>=1.0.5 in /usr/local/lib/python2.7/dist-packages (from tensorflow==1.13.1) (1.1.0)\n",
            "Requirement already satisfied: gast>=0.2.0 in /usr/local/lib/python2.7/dist-packages (from tensorflow==1.13.1) (0.2.2)\n",
            "Collecting tensorboard<1.14.0,>=1.13.0\n",
            "\u001b[?25l  Downloading https://files.pythonhosted.org/packages/89/ac/48dd71c2bdc8d31e367f9b72f25ccb3b89bc6b9d664fee21f9a8efa5714d/tensorboard-1.13.1-py2-none-any.whl (3.2MB)\n",
            "\u001b[K     |████████████████████████████████| 3.2MB 58.2MB/s \n",
            "\u001b[?25hRequirement already satisfied: wheel in /usr/local/lib/python2.7/dist-packages (from tensorflow==1.13.1) (0.35.1)\n",
            "Requirement already satisfied: absl-py>=0.1.6 in /usr/local/lib/python2.7/dist-packages (from tensorflow==1.13.1) (0.7.1)\n",
            "Requirement already satisfied: backports.weakref>=1.0rc1 in /usr/local/lib/python2.7/dist-packages (from tensorflow==1.13.1) (1.0.post1)\n",
            "Requirement already satisfied: six>=1.10.0 in /usr/local/lib/python2.7/dist-packages (from tensorflow==1.13.1) (1.15.0)\n",
            "Requirement already satisfied: numpy>=1.13.3 in /usr/local/lib/python2.7/dist-packages (from tensorflow==1.13.1) (1.16.4)\n",
            "Requirement already satisfied: termcolor>=1.1.0 in /usr/local/lib/python2.7/dist-packages (from tensorflow==1.13.1) (1.1.0)\n",
            "Requirement already satisfied: astor>=0.6.0 in /usr/local/lib/python2.7/dist-packages (from tensorflow==1.13.1) (0.8.0)\n",
            "Requirement already satisfied: futures>=2.2.0 in /usr/local/lib/python2.7/dist-packages (from grpcio>=1.8.6->tensorflow==1.13.1) (3.2.0)\n",
            "Requirement already satisfied: funcsigs>=1; python_version < \"3.3\" in /usr/local/lib/python2.7/dist-packages (from mock>=2.0.0->tensorflow==1.13.1) (1.0.2)\n",
            "Requirement already satisfied: pbr>=0.11 in /usr/local/lib/python2.7/dist-packages (from mock>=2.0.0->tensorflow==1.13.1) (5.4.0)\n",
            "Requirement already satisfied: h5py in /usr/local/lib/python2.7/dist-packages (from keras-applications>=1.0.6->tensorflow==1.13.1) (2.8.0)\n",
            "Requirement already satisfied: setuptools in /usr/local/lib/python2.7/dist-packages (from protobuf>=3.6.1->tensorflow==1.13.1) (44.1.1)\n",
            "Requirement already satisfied: werkzeug>=0.11.15 in /usr/local/lib/python2.7/dist-packages (from tensorboard<1.14.0,>=1.13.0->tensorflow==1.13.1) (0.15.5)\n",
            "Requirement already satisfied: markdown>=2.6.8 in /usr/local/lib/python2.7/dist-packages (from tensorboard<1.14.0,>=1.13.0->tensorflow==1.13.1) (3.1.1)\n",
            "Installing collected packages: tensorflow-estimator, tensorboard, tensorflow\n",
            "  Found existing installation: tensorflow-estimator 1.15.0\n",
            "    Uninstalling tensorflow-estimator-1.15.0:\n",
            "      Successfully uninstalled tensorflow-estimator-1.15.0\n",
            "  Found existing installation: tensorboard 2.1.0\n",
            "    Uninstalling tensorboard-2.1.0:\n",
            "      Successfully uninstalled tensorboard-2.1.0\n",
            "  Found existing installation: tensorflow 2.1.0\n",
            "    Uninstalling tensorflow-2.1.0:\n",
            "      Successfully uninstalled tensorflow-2.1.0\n",
            "Successfully installed tensorboard-1.13.1 tensorflow-1.13.1 tensorflow-estimator-1.13.0\n"
          ],
          "name": "stdout"
        }
      ]
    },
    {
      "cell_type": "code",
      "metadata": {
        "id": "EmKNs2f3GaaY",
        "colab": {
          "base_uri": "https://localhost:8080/"
        },
        "outputId": "912135e2-6a4b-49cb-a22e-f245175ec389"
      },
      "source": [
        "%ls"
      ],
      "execution_count": null,
      "outputs": [
        {
          "output_type": "stream",
          "text": [
            "\u001b[0m\u001b[01;34mPlaneNet\u001b[0m/  \u001b[01;34msample_data\u001b[0m/\n"
          ],
          "name": "stdout"
        }
      ]
    },
    {
      "cell_type": "code",
      "metadata": {
        "id": "t9U3SsAGGf9t",
        "colab": {
          "base_uri": "https://localhost:8080/"
        },
        "outputId": "89c64ac2-cce2-4f30-88ab-5800a00aef9e"
      },
      "source": [
        "!pwd"
      ],
      "execution_count": null,
      "outputs": [
        {
          "output_type": "stream",
          "text": [
            "/content\n"
          ],
          "name": "stdout"
        }
      ]
    },
    {
      "cell_type": "code",
      "metadata": {
        "id": "agOvGoZyGxet",
        "colab": {
          "base_uri": "https://localhost:8080/"
        },
        "outputId": "449f9b5e-117d-4e64-d513-1157fd925c91"
      },
      "source": [
        "cd PlaneNet/"
      ],
      "execution_count": null,
      "outputs": [
        {
          "output_type": "stream",
          "text": [
            "/content/PlaneNet\n"
          ],
          "name": "stdout"
        }
      ]
    },
    {
      "cell_type": "code",
      "metadata": {
        "id": "mj6IKIWaG3pk",
        "colab": {
          "base_uri": "https://localhost:8080/"
        },
        "outputId": "4722d5de-7866-44dd-d2aa-5f0f12a961ce"
      },
      "source": [
        "cd data_preparation/"
      ],
      "execution_count": null,
      "outputs": [
        {
          "output_type": "stream",
          "text": [
            "/content/PlaneNet/data_preparation\n"
          ],
          "name": "stdout"
        }
      ]
    },
    {
      "cell_type": "code",
      "metadata": {
        "id": "_UuWZId4G-R_",
        "colab": {
          "base_uri": "https://localhost:8080/"
        },
        "outputId": "c3694e8d-3064-4394-88fb-b428f274d02d"
      },
      "source": [
        "cd Renderer/"
      ],
      "execution_count": null,
      "outputs": [
        {
          "output_type": "stream",
          "text": [
            "/content/PlaneNet/data_preparation/Renderer\n"
          ],
          "name": "stdout"
        }
      ]
    },
    {
      "cell_type": "code",
      "metadata": {
        "id": "nSkOcuoMHEBJ",
        "colab": {
          "base_uri": "https://localhost:8080/"
        },
        "outputId": "4acc7031-43ed-4afb-a1bb-e4cdaa837c3e"
      },
      "source": [
        "!git clone https://github.com/gflags/gflags"
      ],
      "execution_count": null,
      "outputs": [
        {
          "output_type": "stream",
          "text": [
            "Cloning into 'gflags'...\n",
            "remote: Enumerating objects: 50, done.\u001b[K\n",
            "remote: Counting objects: 100% (50/50), done.\u001b[K\n",
            "remote: Compressing objects: 100% (40/40), done.\u001b[K\n",
            "remote: Total 2437 (delta 20), reused 26 (delta 10), pack-reused 2387\u001b[K\n",
            "Receiving objects: 100% (2437/2437), 1.53 MiB | 11.21 MiB/s, done.\n",
            "Resolving deltas: 100% (1422/1422), done.\n"
          ],
          "name": "stdout"
        }
      ]
    },
    {
      "cell_type": "code",
      "metadata": {
        "id": "4CNRqMN8HLJ2",
        "colab": {
          "base_uri": "https://localhost:8080/"
        },
        "outputId": "88eeb6e2-62cf-4f9b-f167-da512610fa49"
      },
      "source": [
        "cd gflags/"
      ],
      "execution_count": null,
      "outputs": [
        {
          "output_type": "stream",
          "text": [
            "/content/PlaneNet/data_preparation/Renderer/gflags\n"
          ],
          "name": "stdout"
        }
      ]
    },
    {
      "cell_type": "code",
      "metadata": {
        "id": "c6khzShaHbZ5"
      },
      "source": [
        "mkdir build"
      ],
      "execution_count": null,
      "outputs": []
    },
    {
      "cell_type": "code",
      "metadata": {
        "id": "tlE2mly_Hg4f",
        "colab": {
          "base_uri": "https://localhost:8080/"
        },
        "outputId": "508f295e-54d4-446d-b213-cf652d46ea6d"
      },
      "source": [
        "cd build"
      ],
      "execution_count": null,
      "outputs": [
        {
          "output_type": "stream",
          "text": [
            "/content/PlaneNet/data_preparation/Renderer/gflags/build\n"
          ],
          "name": "stdout"
        }
      ]
    },
    {
      "cell_type": "code",
      "metadata": {
        "id": "qZvHQUTpHml8",
        "colab": {
          "base_uri": "https://localhost:8080/"
        },
        "outputId": "1610bc95-8051-4f9a-adce-c7c910416af7"
      },
      "source": [
        "!cmake .."
      ],
      "execution_count": null,
      "outputs": [
        {
          "output_type": "stream",
          "text": [
            "-- The CXX compiler identification is GNU 7.5.0\n",
            "-- Check for working CXX compiler: /usr/bin/c++\n",
            "-- Check for working CXX compiler: /usr/bin/c++ -- works\n",
            "-- Detecting CXX compiler ABI info\n",
            "-- Detecting CXX compiler ABI info - done\n",
            "-- Detecting CXX compile features\n",
            "-- Detecting CXX compile features - done\n",
            "-- Looking for C++ include unistd.h\n",
            "-- Looking for C++ include unistd.h - found\n",
            "-- Looking for C++ include stdint.h\n",
            "-- Looking for C++ include stdint.h - found\n",
            "-- Looking for C++ include inttypes.h\n",
            "-- Looking for C++ include inttypes.h - found\n",
            "-- Looking for C++ include sys/types.h\n",
            "-- Looking for C++ include sys/types.h - found\n",
            "-- Looking for C++ include sys/stat.h\n",
            "-- Looking for C++ include sys/stat.h - found\n",
            "-- Looking for C++ include fnmatch.h\n",
            "-- Looking for C++ include fnmatch.h - found\n",
            "-- Looking for C++ include stddef.h\n",
            "-- Looking for C++ include stddef.h - found\n",
            "-- Check size of uint32_t\n",
            "-- Check size of uint32_t - done\n",
            "-- Looking for strtoll\n",
            "-- Looking for strtoll - found\n",
            "-- Looking for C++ include pthread.h\n",
            "-- Looking for C++ include pthread.h - found\n",
            "-- Looking for pthread_create\n",
            "-- Looking for pthread_create - not found\n",
            "-- Looking for pthread_create in pthreads\n",
            "-- Looking for pthread_create in pthreads - not found\n",
            "-- Looking for pthread_create in pthread\n",
            "-- Looking for pthread_create in pthread - found\n",
            "-- Found Threads: TRUE  \n",
            "-- Check size of pthread_rwlock_t\n",
            "-- Check size of pthread_rwlock_t - done\n",
            "-- Configuring done\n",
            "-- Generating done\n",
            "-- Build files have been written to: /content/PlaneNet/data_preparation/Renderer/gflags/build\n"
          ],
          "name": "stdout"
        }
      ]
    },
    {
      "cell_type": "code",
      "metadata": {
        "id": "s7tby0r-Hv0S",
        "colab": {
          "base_uri": "https://localhost:8080/"
        },
        "outputId": "709a91b8-f758-481f-a355-0a054c71e7c7"
      },
      "source": [
        "!make"
      ],
      "execution_count": null,
      "outputs": [
        {
          "output_type": "stream",
          "text": [
            "\u001b[35m\u001b[1mScanning dependencies of target gflags_static\u001b[0m\n",
            "[ 12%] \u001b[32mBuilding CXX object CMakeFiles/gflags_static.dir/src/gflags.cc.o\u001b[0m\n",
            "[ 25%] \u001b[32mBuilding CXX object CMakeFiles/gflags_static.dir/src/gflags_reporting.cc.o\u001b[0m\n",
            "[ 37%] \u001b[32mBuilding CXX object CMakeFiles/gflags_static.dir/src/gflags_completions.cc.o\u001b[0m\n",
            "[ 50%] \u001b[32m\u001b[1mLinking CXX static library lib/libgflags.a\u001b[0m\n",
            "[ 50%] Built target gflags_static\n",
            "\u001b[35m\u001b[1mScanning dependencies of target gflags_nothreads_static\u001b[0m\n",
            "[ 62%] \u001b[32mBuilding CXX object CMakeFiles/gflags_nothreads_static.dir/src/gflags.cc.o\u001b[0m\n",
            "[ 75%] \u001b[32mBuilding CXX object CMakeFiles/gflags_nothreads_static.dir/src/gflags_reporting.cc.o\u001b[0m\n",
            "[ 87%] \u001b[32mBuilding CXX object CMakeFiles/gflags_nothreads_static.dir/src/gflags_completions.cc.o\u001b[0m\n",
            "[100%] \u001b[32m\u001b[1mLinking CXX static library lib/libgflags_nothreads.a\u001b[0m\n",
            "[100%] Built target gflags_nothreads_static\n"
          ],
          "name": "stdout"
        }
      ]
    },
    {
      "cell_type": "code",
      "metadata": {
        "id": "9dQR1RPTH4z6",
        "colab": {
          "base_uri": "https://localhost:8080/"
        },
        "outputId": "78ffe37d-657f-429e-8fee-b5fda52339c6"
      },
      "source": [
        "!make install"
      ],
      "execution_count": null,
      "outputs": [
        {
          "output_type": "stream",
          "text": [
            "[ 50%] Built target gflags_static\n",
            "[100%] Built target gflags_nothreads_static\n",
            "\u001b[36mInstall the project...\u001b[0m\n",
            "-- Install configuration: \"Release\"\n",
            "-- Installing: /usr/local/lib/libgflags.a\n",
            "-- Installing: /usr/local/lib/libgflags_nothreads.a\n",
            "-- Installing: /usr/local/include/gflags/gflags.h\n",
            "-- Installing: /usr/local/include/gflags/gflags_declare.h\n",
            "-- Installing: /usr/local/include/gflags/gflags_completions.h\n",
            "-- Installing: /usr/local/include/gflags/gflags_gflags.h\n",
            "-- Installing: /usr/local/lib/cmake/gflags/gflags-config.cmake\n",
            "-- Installing: /usr/local/lib/cmake/gflags/gflags-config-version.cmake\n",
            "-- Installing: /usr/local/lib/cmake/gflags/gflags-targets.cmake\n",
            "-- Installing: /usr/local/lib/cmake/gflags/gflags-targets-release.cmake\n",
            "-- Installing: /usr/local/lib/cmake/gflags/gflags-nonamespace-targets.cmake\n",
            "-- Installing: /usr/local/lib/cmake/gflags/gflags-nonamespace-targets-release.cmake\n",
            "-- Installing: /usr/local/bin/gflags_completions.sh\n",
            "-- Installing: /usr/local/lib/pkgconfig/gflags.pc\n",
            "-- Installing: /root/.cmake/packages/gflags/e5f7ce61772240490d3164df06f58ce9\n"
          ],
          "name": "stdout"
        }
      ]
    },
    {
      "cell_type": "code",
      "metadata": {
        "id": "itdwO8JJIUxg",
        "colab": {
          "base_uri": "https://localhost:8080/"
        },
        "outputId": "7aca2eb4-d838-4942-ff29-679dab1eefea"
      },
      "source": [
        "cd ../.."
      ],
      "execution_count": null,
      "outputs": [
        {
          "output_type": "stream",
          "text": [
            "/content/PlaneNet/data_preparation/Renderer\n"
          ],
          "name": "stdout"
        }
      ]
    },
    {
      "cell_type": "code",
      "metadata": {
        "id": "zyTuvehnIchp",
        "colab": {
          "base_uri": "https://localhost:8080/"
        },
        "outputId": "9e0b712f-5c58-4175-a974-7aefb92cd274"
      },
      "source": [
        "!apt install libglew-dev"
      ],
      "execution_count": null,
      "outputs": [
        {
          "output_type": "stream",
          "text": [
            "Reading package lists... Done\n",
            "Building dependency tree       \n",
            "Reading state information... Done\n",
            "The following additional packages will be installed:\n",
            "  libglew2.0\n",
            "Suggested packages:\n",
            "  glew-utils\n",
            "The following NEW packages will be installed:\n",
            "  libglew-dev libglew2.0\n",
            "0 upgraded, 2 newly installed, 0 to remove and 11 not upgraded.\n",
            "Need to get 260 kB of archives.\n",
            "After this operation, 1,943 kB of additional disk space will be used.\n",
            "Get:1 http://archive.ubuntu.com/ubuntu bionic/universe amd64 libglew2.0 amd64 2.0.0-5 [140 kB]\n",
            "Get:2 http://archive.ubuntu.com/ubuntu bionic/universe amd64 libglew-dev amd64 2.0.0-5 [120 kB]\n",
            "Fetched 260 kB in 1s (297 kB/s)\n",
            "Selecting previously unselected package libglew2.0:amd64.\n",
            "(Reading database ... 144628 files and directories currently installed.)\n",
            "Preparing to unpack .../libglew2.0_2.0.0-5_amd64.deb ...\n",
            "Unpacking libglew2.0:amd64 (2.0.0-5) ...\n",
            "Selecting previously unselected package libglew-dev:amd64.\n",
            "Preparing to unpack .../libglew-dev_2.0.0-5_amd64.deb ...\n",
            "Unpacking libglew-dev:amd64 (2.0.0-5) ...\n",
            "Setting up libglew2.0:amd64 (2.0.0-5) ...\n",
            "Setting up libglew-dev:amd64 (2.0.0-5) ...\n",
            "Processing triggers for libc-bin (2.27-3ubuntu1.2) ...\n",
            "/sbin/ldconfig.real: /usr/local/lib/python3.6/dist-packages/ideep4py/lib/libmkldnn.so.0 is not a symbolic link\n",
            "\n"
          ],
          "name": "stdout"
        }
      ]
    },
    {
      "cell_type": "code",
      "metadata": {
        "id": "1fIYao7LIldn",
        "colab": {
          "base_uri": "https://localhost:8080/"
        },
        "outputId": "5cc28267-a327-49b3-c837-92ad5e0eead7"
      },
      "source": [
        "!cmake ."
      ],
      "execution_count": null,
      "outputs": [
        {
          "output_type": "stream",
          "text": [
            "-- The C compiler identification is GNU 7.5.0\n",
            "-- The CXX compiler identification is GNU 7.5.0\n",
            "-- Check for working C compiler: /usr/bin/cc\n",
            "-- Check for working C compiler: /usr/bin/cc -- works\n",
            "-- Detecting C compiler ABI info\n",
            "-- Detecting C compiler ABI info - done\n",
            "-- Detecting C compile features\n",
            "-- Detecting C compile features - done\n",
            "-- Check for working CXX compiler: /usr/bin/c++\n",
            "-- Check for working CXX compiler: /usr/bin/c++ -- works\n",
            "-- Detecting CXX compiler ABI info\n",
            "-- Detecting CXX compiler ABI info - done\n",
            "-- Detecting CXX compile features\n",
            "-- Detecting CXX compile features - done\n",
            "-- Found OpenCV: /usr (found version \"3.2.0\") \n",
            "CMake Warning (dev) at /usr/local/lib/python2.7/dist-packages/cmake/data/share/cmake-3.12/Modules/FindOpenGL.cmake:270 (message):\n",
            "  Policy CMP0072 is not set: FindOpenGL prefers GLVND by default when\n",
            "  available.  Run \"cmake --help-policy CMP0072\" for policy details.  Use the\n",
            "  cmake_policy command to set the policy and suppress this warning.\n",
            "\n",
            "  FindOpenGL found both a legacy GL library:\n",
            "\n",
            "    OPENGL_gl_LIBRARY: /usr/lib/x86_64-linux-gnu/libGL.so\n",
            "\n",
            "  and GLVND libraries for OpenGL and GLX:\n",
            "\n",
            "    OPENGL_opengl_LIBRARY: /usr/lib/x86_64-linux-gnu/libOpenGL.so\n",
            "    OPENGL_glx_LIBRARY: /usr/lib/x86_64-linux-gnu/libGLX.so\n",
            "\n",
            "  OpenGL_GL_PREFERENCE has not been set to \"GLVND\" or \"LEGACY\", so for\n",
            "  compatibility with CMake 3.10 and below the legacy GL library will be used.\n",
            "Call Stack (most recent call first):\n",
            "  CMakeLists.txt:5 (find_package)\n",
            "This warning is for project developers.  Use -Wno-dev to suppress it.\n",
            "\n",
            "-- Found OpenGL: /usr/lib/x86_64-linux-gnu/libOpenGL.so   \n",
            "-- Found GLEW: /usr/include  \n",
            "-- Found GLUT: /usr/lib/x86_64-linux-gnu/libglut.so  \n",
            "-- Found ZLIB: /usr/lib/x86_64-linux-gnu/libz.so (found version \"1.2.11\") \n",
            "-- Found PNG: /usr/lib/x86_64-linux-gnu/libpng.so (found version \"1.6.34\") \n",
            "-- Configuring done\n",
            "-- Generating done\n",
            "-- Build files have been written to: /content/PlaneNet/data_preparation/Renderer\n"
          ],
          "name": "stdout"
        }
      ]
    },
    {
      "cell_type": "code",
      "metadata": {
        "id": "6hLML2oZIvE9",
        "colab": {
          "base_uri": "https://localhost:8080/"
        },
        "outputId": "8f171dfd-153b-42da-e9e4-cf2c6bab63da"
      },
      "source": [
        "!apt-get install libglm-dev"
      ],
      "execution_count": null,
      "outputs": [
        {
          "output_type": "stream",
          "text": [
            "Reading package lists... Done\n",
            "Building dependency tree       \n",
            "Reading state information... Done\n",
            "The following NEW packages will be installed:\n",
            "  libglm-dev\n",
            "0 upgraded, 1 newly installed, 0 to remove and 11 not upgraded.\n",
            "Need to get 163 kB of archives.\n",
            "After this operation, 1,977 kB of additional disk space will be used.\n",
            "Get:1 http://archive.ubuntu.com/ubuntu bionic/main amd64 libglm-dev all 0.9.9~a2-2 [163 kB]\n",
            "Fetched 163 kB in 1s (244 kB/s)\n",
            "Selecting previously unselected package libglm-dev.\n",
            "(Reading database ... 144641 files and directories currently installed.)\n",
            "Preparing to unpack .../libglm-dev_0.9.9~a2-2_all.deb ...\n",
            "Unpacking libglm-dev (0.9.9~a2-2) ...\n",
            "Setting up libglm-dev (0.9.9~a2-2) ...\n"
          ],
          "name": "stdout"
        }
      ]
    },
    {
      "cell_type": "code",
      "metadata": {
        "id": "pod4b30DI3OD",
        "colab": {
          "base_uri": "https://localhost:8080/"
        },
        "outputId": "3be85f37-3419-4c17-846a-569f9c63e738"
      },
      "source": [
        "!pwd"
      ],
      "execution_count": null,
      "outputs": [
        {
          "output_type": "stream",
          "text": [
            "/content/PlaneNet/data_preparation/Renderer\n"
          ],
          "name": "stdout"
        }
      ]
    },
    {
      "cell_type": "code",
      "metadata": {
        "id": "kq8cXsbgJPtq",
        "colab": {
          "base_uri": "https://localhost:8080/"
        },
        "outputId": "3b291478-1f15-4994-f244-33371e36f3de"
      },
      "source": [
        "!make"
      ],
      "execution_count": null,
      "outputs": [
        {
          "output_type": "stream",
          "text": [
            "\u001b[35m\u001b[1mScanning dependencies of target Renderer\u001b[0m\n",
            "[ 50%] \u001b[32mBuilding CXX object CMakeFiles/Renderer.dir/main.cpp.o\u001b[0m\n",
            "[100%] \u001b[32m\u001b[1mLinking CXX executable Renderer\u001b[0m\n",
            "/usr/bin/ld: cannot find -lOpenMeshCore\n",
            "/usr/bin/ld: cannot find -lOpenMeshTools\n",
            "collect2: error: ld returned 1 exit status\n",
            "CMakeFiles/Renderer.dir/build.make:94: recipe for target 'Renderer' failed\n",
            "make[2]: *** [Renderer] Error 1\n",
            "CMakeFiles/Makefile2:72: recipe for target 'CMakeFiles/Renderer.dir/all' failed\n",
            "make[1]: *** [CMakeFiles/Renderer.dir/all] Error 2\n",
            "Makefile:83: recipe for target 'all' failed\n",
            "make: *** [all] Error 2\n"
          ],
          "name": "stdout"
        }
      ]
    },
    {
      "cell_type": "code",
      "metadata": {
        "id": "CC_KLo93JUsa",
        "colab": {
          "base_uri": "https://localhost:8080/"
        },
        "outputId": "a8473758-d90a-40ce-8046-112b44325e0b"
      },
      "source": [
        "cd .."
      ],
      "execution_count": null,
      "outputs": [
        {
          "output_type": "stream",
          "text": [
            "/content/PlaneNet/data_preparation\n"
          ],
          "name": "stdout"
        }
      ]
    },
    {
      "cell_type": "code",
      "metadata": {
        "id": "YJ7MYk73JbzO",
        "colab": {
          "base_uri": "https://localhost:8080/"
        },
        "outputId": "18b2c235-87f8-4953-d069-505b93687dc4"
      },
      "source": [
        "!pip install plyfile"
      ],
      "execution_count": null,
      "outputs": [
        {
          "output_type": "stream",
          "text": [
            "Collecting plyfile\n",
            "  Downloading https://files.pythonhosted.org/packages/b4/bd/e9c77d26b00474e12b06c8cfd9665e09566ccd4719dfbd7d00fd2df82aa1/plyfile-0.7.2.tar.gz\n",
            "Requirement already satisfied: numpy>=1.8 in /usr/local/lib/python2.7/dist-packages (from plyfile) (1.16.4)\n",
            "Building wheels for collected packages: plyfile\n",
            "  Building wheel for plyfile (setup.py) ... \u001b[?25l\u001b[?25hdone\n",
            "  Created wheel for plyfile: filename=plyfile-0.7.2-cp27-none-any.whl size=39220 sha256=f8926ded73114811b61e860313a156e7bea4afc64997eff488b88a016f575367\n",
            "  Stored in directory: /root/.cache/pip/wheels/e6/fa/52/74d182e9353178bf0fc13f0753ed2b64534cae3c0448bc503d\n",
            "Successfully built plyfile\n",
            "Installing collected packages: plyfile\n",
            "Successfully installed plyfile-0.7.2\n"
          ],
          "name": "stdout"
        }
      ]
    },
    {
      "cell_type": "code",
      "metadata": {
        "id": "IzKflwsOSInJ",
        "colab": {
          "base_uri": "https://localhost:8080/"
        },
        "outputId": "bc83d617-9446-474a-d82e-af2901e8ff0f"
      },
      "source": [
        "%%writefile download_scannet.py\n",
        "\n",
        "#!/usr/bin/env python\n",
        "# Downloads ScanNet public data release\n",
        "# Run with ./download-scannet.py (or python download-scannet.py on Windows)\n",
        "# -*- coding: utf-8 -*-\n",
        "import argparse\n",
        "import os\n",
        "#import urllib.request (for python3)\n",
        "import urllib\n",
        "import tempfile\n",
        "\n",
        "BASE_URL = 'http://kaldir.vc.in.tum.de/scannet/'\n",
        "TOS_URL = BASE_URL + 'ScanNet_TOS.pdf'\n",
        "FILETYPES = ['.aggregation.json', '.sens', '.txt', '_vh_clean.ply', '_vh_clean_2.0.010000.segs.json', '_vh_clean_2.ply', '_vh_clean.segs.json', '_vh_clean.aggregation.json', '_vh_clean_2.labels.ply', '_2d-instance.zip', '_2d-instance-filt.zip', '_2d-label.zip', '_2d-label-filt.zip']\n",
        "FILETYPES_TEST = ['.sens', '.txt', '_vh_clean.ply', '_vh_clean_2.ply']\n",
        "PREPROCESSED_FRAMES_FILE = ['scannet_frames_25k.zip', '5.6GB']\n",
        "TEST_FRAMES_FILE = ['scannet_frames_test.zip', '610MB']\n",
        "LABEL_MAP_FILES = ['scannetv2-labels.combined.tsv', 'scannet-labels.combined.tsv']\n",
        "RELEASES = ['v2/scans', 'v1/scans']\n",
        "RELEASES_TASKS = ['v2/tasks', 'v1/tasks']\n",
        "RELEASES_NAMES = ['v2', 'v1']\n",
        "RELEASE = RELEASES[0]\n",
        "RELEASE_TASKS = RELEASES_TASKS[0]\n",
        "RELEASE_NAME = RELEASES_NAMES[0]\n",
        "LABEL_MAP_FILE = LABEL_MAP_FILES[0]\n",
        "RELEASE_SIZE = '1.2TB'\n",
        "V1_IDX = 1\n",
        "\n",
        "\n",
        "def get_release_scans(release_file):\n",
        "    #scan_lines = urllib.request.urlopen(release_file)\n",
        "    scan_lines = urllib.urlopen(release_file)\n",
        "    scans = []\n",
        "    for scan_line in scan_lines:\n",
        "        scan_id = scan_line.decode('utf8').rstrip('\\n')\n",
        "        scans.append(scan_id)\n",
        "    return scans\n",
        "\n",
        "\n",
        "def download_release(release_scans, out_dir, file_types, use_v1_sens):\n",
        "    if len(release_scans) == 0:\n",
        "        return\n",
        "    print('Downloading ScanNet ' + RELEASE_NAME + ' release to ' + out_dir + '...')\n",
        "    for scan_id in release_scans:\n",
        "        scan_out_dir = os.path.join(out_dir, scan_id)\n",
        "        download_scan(scan_id, scan_out_dir, file_types, use_v1_sens)\n",
        "    print('Downloaded ScanNet ' + RELEASE_NAME + ' release.')\n",
        "\n",
        "\n",
        "def download_file(url, out_file):\n",
        "    out_dir = os.path.dirname(out_file)\n",
        "    if not os.path.isdir(out_dir):\n",
        "        os.makedirs(out_dir)\n",
        "    if not os.path.isfile(out_file):\n",
        "        print('\\t' + url + ' > ' + out_file)\n",
        "        fh, out_file_tmp = tempfile.mkstemp(dir=out_dir)\n",
        "        f = os.fdopen(fh, 'w')\n",
        "        f.close()\n",
        "        #urllib.request.urlretrieve(url, out_file_tmp)\n",
        "        urllib.urlretrieve(url, out_file_tmp)\n",
        "        os.rename(out_file_tmp, out_file)\n",
        "    else:\n",
        "        print('WARNING: skipping download of existing file ' + out_file)\n",
        "\n",
        "def download_scan(scan_id, out_dir, file_types, use_v1_sens):\n",
        "    print('Downloading ScanNet ' + RELEASE_NAME + ' scan ' + scan_id + ' ...')\n",
        "    if not os.path.isdir(out_dir):\n",
        "        os.makedirs(out_dir)\n",
        "    for ft in file_types:\n",
        "        v1_sens = use_v1_sens and ft == '.sens'\n",
        "        url = BASE_URL + RELEASE + '/' + scan_id + '/' + scan_id + ft if not v1_sens else BASE_URL + RELEASES[V1_IDX] + '/' + scan_id + '/' + scan_id + ft\n",
        "        out_file = out_dir + '/' + scan_id + ft\n",
        "        download_file(url, out_file)\n",
        "    print('Downloaded scan ' + scan_id)\n",
        "\n",
        "\n",
        "def download_task_data(out_dir):\n",
        "    print('Downloading ScanNet v1 task data...')\n",
        "    files = [\n",
        "        LABEL_MAP_FILES[V1_IDX], 'obj_classification/data.zip',\n",
        "        'obj_classification/trained_models.zip', 'voxel_labeling/data.zip',\n",
        "        'voxel_labeling/trained_models.zip'\n",
        "    ]\n",
        "    for file in files:\n",
        "        url = BASE_URL + RELEASES_TASKS[V1_IDX] + '/' + file\n",
        "        localpath = os.path.join(out_dir, file)\n",
        "        localdir = os.path.dirname(localpath)\n",
        "        if not os.path.isdir(localdir):\n",
        "          os.makedirs(localdir)\n",
        "        download_file(url, localpath)\n",
        "    print('Downloaded task data.')\n",
        "\n",
        "\n",
        "def download_label_map(out_dir):\n",
        "    print('Downloading ScanNet ' + RELEASE_NAME + ' label mapping file...')\n",
        "    files = [ LABEL_MAP_FILE ]\n",
        "    for file in files:\n",
        "        url = BASE_URL + RELEASE_TASKS + '/' + file\n",
        "        localpath = os.path.join(out_dir, file)\n",
        "        localdir = os.path.dirname(localpath)\n",
        "        if not os.path.isdir(localdir):\n",
        "          os.makedirs(localdir)\n",
        "        download_file(url, localpath)\n",
        "    print('Downloaded ScanNet ' + RELEASE_NAME + ' label mapping file.')\n",
        "\n",
        "\n",
        "def main():\n",
        "    parser = argparse.ArgumentParser(description='Downloads ScanNet public data release.')\n",
        "    parser.add_argument('-o', '--out_dir', required=True, help='directory in which to download')\n",
        "    parser.add_argument('--task_data', action='store_true', help='download task data (v1)')\n",
        "    parser.add_argument('--label_map', action='store_true', help='download label map file')\n",
        "    parser.add_argument('--v1', action='store_true', help='download ScanNet v1 instead of v2')\n",
        "    parser.add_argument('--id', help='specific scan id to download')\n",
        "    parser.add_argument('--preprocessed_frames', action='store_true', help='download preprocessed subset of ScanNet frames (' + PREPROCESSED_FRAMES_FILE[1] + ')')\n",
        "    parser.add_argument('--test_frames_2d', action='store_true', help='download 2D test frames (' + TEST_FRAMES_FILE[1] + '; also included with whole dataset download)')\n",
        "    parser.add_argument('--type', help='specific file type to download (.aggregation.json, .sens, .txt, _vh_clean.ply, _vh_clean_2.0.010000.segs.json, _vh_clean_2.ply, _vh_clean.segs.json, _vh_clean.aggregation.json, _vh_clean_2.labels.ply, _2d-instance.zip, _2d-instance-filt.zip, _2d-label.zip, _2d-label-filt.zip)')\n",
        "    args = parser.parse_args()\n",
        "\n",
        "    # print('By pressing any key to continue you confirm that you have agreed to the ScanNet terms of use as described at:')\n",
        "    # print(TOS_URL)\n",
        "    # print('***')\n",
        "    # print('Press any key to continue, or CTRL-C to exit.')\n",
        "    # key = raw_input('')\n",
        "\n",
        "    if args.v1:\n",
        "        global RELEASE\n",
        "        global RELEASE_TASKS\n",
        "        global RELEASE_NAME\n",
        "        global LABEL_MAP_FILE\n",
        "        RELEASE = RELEASES[V1_IDX]\n",
        "        RELEASE_TASKS = RELEASES_TASKS[V1_IDX]\n",
        "        RELEASE_NAME = RELEASES_NAMES[V1_IDX]\n",
        "        LABEL_MAP_FILE = LABEL_MAP_FILES[V1_IDX]\n",
        "\n",
        "    release_file = BASE_URL + RELEASE + '.txt'\n",
        "    release_scans = get_release_scans(release_file)\n",
        "    file_types = FILETYPES;\n",
        "    release_test_file = BASE_URL + RELEASE + '_test.txt'\n",
        "    release_test_scans = get_release_scans(release_test_file)\n",
        "    file_types_test = FILETYPES_TEST;\n",
        "    out_dir_scans = os.path.join(args.out_dir, 'scans')\n",
        "    out_dir_test_scans = os.path.join(args.out_dir, 'scans_test')\n",
        "    out_dir_tasks = os.path.join(args.out_dir, 'tasks')\n",
        "\n",
        "    if args.type:  # download file type\n",
        "        file_type = args.type\n",
        "        if file_type not in FILETYPES:\n",
        "            print('ERROR: Invalid file type: ' + file_type)\n",
        "            return\n",
        "        file_types = [file_type]\n",
        "        if file_type in FILETYPES_TEST:\n",
        "            file_types_test = [file_type]\n",
        "        else:\n",
        "            file_types_test = []\n",
        "    if args.task_data:  # download task data\n",
        "        download_task_data(out_dir_tasks)\n",
        "    elif args.label_map:  # download label map file\n",
        "        download_label_map(args.out_dir)\n",
        "    elif args.preprocessed_frames:  # download preprocessed scannet_frames_25k.zip file\n",
        "        if args.v1:\n",
        "            print('ERROR: Preprocessed frames only available for ScanNet v2')\n",
        "        print('You are downloading the preprocessed subset of frames ' + PREPROCESSED_FRAMES_FILE[0] + ' which requires ' + PREPROCESSED_FRAMES_FILE[1] + ' of space.')\n",
        "        download_file(os.path.join(BASE_URL, RELEASE_TASKS, PREPROCESSED_FRAMES_FILE[0]), os.path.join(out_dir_tasks, PREPROCESSED_FRAMES_FILE[0]))\n",
        "    elif args.test_frames_2d:  # download test scannet_frames_test.zip file\n",
        "        if args.v1:\n",
        "            print('ERROR: 2D test frames only available for ScanNet v2')\n",
        "        print('You are downloading the 2D test set ' + TEST_FRAMES_FILE[0] + ' which requires ' + TEST_FRAMES_FILE[1] + ' of space.')\n",
        "        download_file(os.path.join(BASE_URL, RELEASE_TASKS, TEST_FRAMES_FILE[0]), os.path.join(out_dir_tasks, TEST_FRAMES_FILE[0]))\n",
        "    elif args.id:  # download single scan\n",
        "        scan_id = args.id\n",
        "        is_test_scan = scan_id in release_test_scans\n",
        "        if scan_id not in release_scans and (not is_test_scan or args.v1):\n",
        "            print('ERROR: Invalid scan id: ' + scan_id)\n",
        "        else:\n",
        "            out_dir = os.path.join(out_dir_scans, scan_id) if not is_test_scan else os.path.join(out_dir_test_scans, scan_id)\n",
        "            scan_file_types = file_types if not is_test_scan else file_types_test\n",
        "            use_v1_sens = not is_test_scan\n",
        "            # if not is_test_scan and not args.v1 and '.sens' in scan_file_types:\n",
        "            #     print('Note: ScanNet v2 uses the same .sens files as ScanNet v1: Press \\'n\\' to exclude downloading .sens files for each scan')\n",
        "            #     key = raw_input('')\n",
        "            #     if key.strip().lower() == 'n':\n",
        "            #         scan_file_types.remove('.sens')\n",
        "            download_scan(scan_id, out_dir, scan_file_types, use_v1_sens)\n",
        "    else:  # download entire release\n",
        "        if len(file_types) == len(FILETYPES):\n",
        "            print('WARNING: You are downloading the entire ScanNet ' + RELEASE_NAME + ' release which requires ' + RELEASE_SIZE + ' of space.')\n",
        "        else:\n",
        "            print('WARNING: You are downloading all ScanNet ' + RELEASE_NAME + ' scans of type ' + file_types[0])\n",
        "        # print('Note that existing scan directories will be skipped. Delete partially downloaded directories to re-download.')\n",
        "        # print('***')\n",
        "        # print('Press any key to continue, or CTRL-C to exit.')\n",
        "        # key = raw_input('')\n",
        "        # if not args.v1 and '.sens' in file_types:\n",
        "        #     print('Note: ScanNet v2 uses the same .sens files as ScanNet v1: Press \\'n\\' to exclude downloading .sens files for each scan')\n",
        "        #     key = raw_input('')\n",
        "        #     if key.strip().lower() == 'n':\n",
        "        #         file_types.remove('.sens')\n",
        "        download_release(release_scans, out_dir_scans, file_types, use_v1_sens=True)\n",
        "        if not args.v1:\n",
        "            download_label_map(args.out_dir)\n",
        "            download_release(release_test_scans, out_dir_test_scans, file_types_test, use_v1_sens=False)\n",
        "            download_file(os.path.join(BASE_URL, RELEASE_TASKS, TEST_FRAMES_FILE[0]), os.path.join(out_dir_tasks, TEST_FRAMES_FILE[0]))\n",
        "\n",
        "\n",
        "if __name__ == \"__main__\": main()"
      ],
      "execution_count": null,
      "outputs": [
        {
          "output_type": "stream",
          "text": [
            "Writing download_scannet.py\n"
          ],
          "name": "stdout"
        }
      ]
    },
    {
      "cell_type": "code",
      "metadata": {
        "id": "6-82MEendBTz",
        "colab": {
          "base_uri": "https://localhost:8080/"
        },
        "outputId": "ce769716-45f7-45f6-8ef0-ea9130995f97"
      },
      "source": [
        "!pwd"
      ],
      "execution_count": null,
      "outputs": [
        {
          "output_type": "stream",
          "text": [
            "/content/PlaneNet/data_preparation\n"
          ],
          "name": "stdout"
        }
      ]
    },
    {
      "cell_type": "code",
      "metadata": {
        "id": "uK4wJihYdSXl"
      },
      "source": [
        "!mkdir Data"
      ],
      "execution_count": null,
      "outputs": []
    },
    {
      "cell_type": "code",
      "metadata": {
        "id": "4v2izsolddrK",
        "colab": {
          "base_uri": "https://localhost:8080/"
        },
        "outputId": "7b5daaf4-e20d-4e01-eed6-75ad7543ba8c"
      },
      "source": [
        "!python download_scannet.py -o \"Data\" --id scene0191_01"
      ],
      "execution_count": null,
      "outputs": [
        {
          "output_type": "stream",
          "text": [
            "Downloading ScanNet v2 scan scene0191_01 ...\n",
            "\thttp://kaldir.vc.in.tum.de/scannet/v2/scans/scene0191_01/scene0191_01.aggregation.json > Data/scans/scene0191_01/scene0191_01.aggregation.json\n",
            "\thttp://kaldir.vc.in.tum.de/scannet/v1/scans/scene0191_01/scene0191_01.sens > Data/scans/scene0191_01/scene0191_01.sens\n",
            "\thttp://kaldir.vc.in.tum.de/scannet/v2/scans/scene0191_01/scene0191_01.txt > Data/scans/scene0191_01/scene0191_01.txt\n",
            "\thttp://kaldir.vc.in.tum.de/scannet/v2/scans/scene0191_01/scene0191_01_vh_clean.ply > Data/scans/scene0191_01/scene0191_01_vh_clean.ply\n",
            "\thttp://kaldir.vc.in.tum.de/scannet/v2/scans/scene0191_01/scene0191_01_vh_clean_2.0.010000.segs.json > Data/scans/scene0191_01/scene0191_01_vh_clean_2.0.010000.segs.json\n",
            "\thttp://kaldir.vc.in.tum.de/scannet/v2/scans/scene0191_01/scene0191_01_vh_clean_2.ply > Data/scans/scene0191_01/scene0191_01_vh_clean_2.ply\n",
            "\thttp://kaldir.vc.in.tum.de/scannet/v2/scans/scene0191_01/scene0191_01_vh_clean.segs.json > Data/scans/scene0191_01/scene0191_01_vh_clean.segs.json\n",
            "\thttp://kaldir.vc.in.tum.de/scannet/v2/scans/scene0191_01/scene0191_01_vh_clean.aggregation.json > Data/scans/scene0191_01/scene0191_01_vh_clean.aggregation.json\n",
            "\thttp://kaldir.vc.in.tum.de/scannet/v2/scans/scene0191_01/scene0191_01_vh_clean_2.labels.ply > Data/scans/scene0191_01/scene0191_01_vh_clean_2.labels.ply\n",
            "\thttp://kaldir.vc.in.tum.de/scannet/v2/scans/scene0191_01/scene0191_01_2d-instance.zip > Data/scans/scene0191_01/scene0191_01_2d-instance.zip\n",
            "\thttp://kaldir.vc.in.tum.de/scannet/v2/scans/scene0191_01/scene0191_01_2d-instance-filt.zip > Data/scans/scene0191_01/scene0191_01_2d-instance-filt.zip\n",
            "\thttp://kaldir.vc.in.tum.de/scannet/v2/scans/scene0191_01/scene0191_01_2d-label.zip > Data/scans/scene0191_01/scene0191_01_2d-label.zip\n",
            "\thttp://kaldir.vc.in.tum.de/scannet/v2/scans/scene0191_01/scene0191_01_2d-label-filt.zip > Data/scans/scene0191_01/scene0191_01_2d-label-filt.zip\n",
            "Downloaded scan scene0191_01\n"
          ],
          "name": "stdout"
        }
      ]
    },
    {
      "cell_type": "code",
      "metadata": {
        "id": "FjtXsuZFd9oP",
        "colab": {
          "base_uri": "https://localhost:8080/"
        },
        "outputId": "7001f8ab-c23b-49bd-a556-7a061cf90fdb"
      },
      "source": [
        "!pwd"
      ],
      "execution_count": null,
      "outputs": [
        {
          "output_type": "stream",
          "text": [
            "/content/PlaneNet/data_preparation\n"
          ],
          "name": "stdout"
        }
      ]
    },
    {
      "cell_type": "code",
      "metadata": {
        "id": "am_woLgxeK_r",
        "colab": {
          "base_uri": "https://localhost:8080/"
        },
        "outputId": "67f2049b-57c3-472f-92b0-af935aa1596a"
      },
      "source": [
        "cd .."
      ],
      "execution_count": null,
      "outputs": [
        {
          "output_type": "stream",
          "text": [
            "/content/PlaneNet\n"
          ],
          "name": "stdout"
        }
      ]
    },
    {
      "cell_type": "code",
      "metadata": {
        "id": "hEipmxzxeNOa",
        "colab": {
          "base_uri": "https://localhost:8080/"
        },
        "outputId": "080c6b9f-17f3-4d56-a67a-01add3363e97"
      },
      "source": [
        "!git clone https://github.com/facebookresearch/votenet"
      ],
      "execution_count": null,
      "outputs": [
        {
          "output_type": "stream",
          "text": [
            "Cloning into 'votenet'...\n",
            "remote: Enumerating objects: 134, done.\u001b[K\n",
            "remote: Total 134 (delta 0), reused 0 (delta 0), pack-reused 134\u001b[K\n",
            "Receiving objects: 100% (134/134), 847.69 KiB | 6.67 MiB/s, done.\n",
            "Resolving deltas: 100% (28/28), done.\n"
          ],
          "name": "stdout"
        }
      ]
    },
    {
      "cell_type": "code",
      "metadata": {
        "id": "4Ev-LNP7fvgh",
        "colab": {
          "base_uri": "https://localhost:8080/"
        },
        "outputId": "cde52abd-0a0f-4da3-a6f5-1d8f70b0ac3c"
      },
      "source": [
        "!pwd"
      ],
      "execution_count": null,
      "outputs": [
        {
          "output_type": "stream",
          "text": [
            "/content/PlaneNet\n"
          ],
          "name": "stdout"
        }
      ]
    },
    {
      "cell_type": "code",
      "metadata": {
        "id": "ZnV8I-BifhSE"
      },
      "source": [
        "!mkdir data_preparation/Data/scans/tasks"
      ],
      "execution_count": null,
      "outputs": []
    },
    {
      "cell_type": "code",
      "metadata": {
        "id": "OQg1oz1Af32a"
      },
      "source": [
        "!cp votenet/scannet/meta_data/scannetv2-labels.combined.tsv data_preparation/Data/scans/tasks/scannet-labels.combined.tsv"
      ],
      "execution_count": null,
      "outputs": []
    },
    {
      "cell_type": "code",
      "metadata": {
        "id": "qR-SXCCXf-hi",
        "colab": {
          "base_uri": "https://localhost:8080/"
        },
        "outputId": "8e11e25e-2088-4d90-adc8-7db560d4498c"
      },
      "source": [
        "cd data_preparation/"
      ],
      "execution_count": null,
      "outputs": [
        {
          "output_type": "stream",
          "text": [
            "/content/PlaneNet/data_preparation\n"
          ],
          "name": "stdout"
        }
      ]
    },
    {
      "cell_type": "code",
      "metadata": {
        "id": "RAsNKblmgVPh",
        "colab": {
          "base_uri": "https://localhost:8080/"
        },
        "outputId": "65a4fec3-53b4-42e2-ff36-4bae853782b3"
      },
      "source": [
        "!python parse.py"
      ],
      "execution_count": null,
      "outputs": [
        {
          "output_type": "stream",
          "text": [
            "scene0191_01\n",
            "('plane fitting', 'scene0191_01')\n",
            "('num groups', 88)\n",
            "('number of planes: ', 121)\n"
          ],
          "name": "stdout"
        }
      ]
    },
    {
      "cell_type": "code",
      "metadata": {
        "id": "PyMg8kszhlaY",
        "colab": {
          "base_uri": "https://localhost:8080/"
        },
        "outputId": "5a6cd08b-1dd0-4540-8099-44a106cb1a26"
      },
      "source": [
        "!ls"
      ],
      "execution_count": null,
      "outputs": [
        {
          "output_type": "stream",
          "text": [
            "Data  download_scannet.py  download_scannet.pyc  parse.py  README.md  Renderer\n"
          ],
          "name": "stdout"
        }
      ]
    }
  ]
}